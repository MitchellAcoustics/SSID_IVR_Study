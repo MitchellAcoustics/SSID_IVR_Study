{
 "cells": [
  {
   "cell_type": "markdown",
   "metadata": {
    "vscode": {
     "languageId": "plaintext"
    }
   },
   "source": [
    "# Video Processing"
   ]
  },
  {
   "cell_type": "code",
   "execution_count": null,
   "metadata": {},
   "outputs": [],
   "source": [
    "import pandas as pd\n",
    "import cv2"
   ]
  },
  {
   "cell_type": "markdown",
   "metadata": {},
   "source": [
    "import 001_P48.csv"
   ]
  },
  {
   "cell_type": "code",
   "execution_count": null,
   "metadata": {},
   "outputs": [],
   "source": [
    "csv_file_path = \"/Users/yuqiliang/Documents/Python/SSID_IVR_Study/001_P48.csv\"  \n",
    "Points = pd.read_csv(csv_file_path, skiprows=lambda x: x < 26)"
   ]
  },
  {
   "cell_type": "markdown",
   "metadata": {},
   "source": [
    "find the 'StartMedia' timestamp"
   ]
  },
  {
   "cell_type": "code",
   "execution_count": null,
   "metadata": {},
   "outputs": [],
   "source": [
    "row = df[df['SlideEvent'] == 'StartMedia'] \n",
    "timestamp_diff = row['Timestamp'].values[0] "
   ]
  },
  {
   "cell_type": "markdown",
   "metadata": {},
   "source": [
    "## Overlay"
   ]
  },
  {
   "cell_type": "code",
   "execution_count": null,
   "metadata": {},
   "outputs": [],
   "source": [
    "\n",
    "# read the video\n",
    "input_video_path = \"/Users/yuqiliang/Documents/Python/SSID_IVR_Study/1min_30.mp4\"\n",
    "video = cv2.VideoCapture(input_video_path)\n",
    "fps = video.get(cv2.CAP_PROP_FPS)\n",
    "total_frames = int(video.get(cv2.CAP_PROP_FRAME_COUNT))\n",
    "width = int(video.get(cv2.CAP_PROP_FRAME_WIDTH))\n",
    "height = int(video.get(cv2.CAP_PROP_FRAME_HEIGHT))\n",
    "\n",
    "# Print\n",
    "print(\"FPS:\", fps)\n",
    "print(\"Total frames:\", total_frames)\n",
    "print(f\"width: {width} \")\n",
    "print(f\"height: {height} \")\n",
    "\n",
    "# VideoWriter mp4-mp4v format\n",
    "fourcc = cv2.VideoWriter_fourcc(*'mp4v')\n",
    "output_video_path = \"/Users/yuqiliang/Documents/Python/SSID_IVR_Study/output_01.mp4\"\n",
    "out = cv2.VideoWriter(output_video_path, fourcc, fps, (width, height))\n",
    "\n",
    "# clean the NaN in columns\n",
    "Points = Points.dropna(subset=['Gaze X', 'Gaze Y'])\n",
    "\n",
    "# - timestamp_diff\n",
    "Points['Timestamp'] = Points['Timestamp'] - timestamp_diff\n",
    "\n",
    "# loop video frames\n",
    "current_point_index = 0\n",
    "for frame_index in range(total_frames):\n",
    "    ret, frame = video.read()\n",
    "    if not ret:\n",
    "        break\n",
    "    \n",
    "    # time of the frame in ms\n",
    "    # Convert frame index to ms\n",
    "    current_time = frame_index / fps * 1000 \n",
    "    \n",
    "    # check if the time has reached the next timestamp\n",
    "    while (current_point_index < len(Points) - 1 and\n",
    "           Points['Timestamp'].iloc[current_point_index + 1] <= current_time):\n",
    "        current_point_index += 1 #index=index+1\n",
    "\n",
    "    # get the coordinates corresponding to the current timestamp\n",
    "    if current_point_index < len(Points):\n",
    "        row = Points.iloc[current_point_index]\n",
    "        x, y = int(row['Gaze X']), int(row['Gaze Y'])\n",
    "        # draw a yellow circle\n",
    "        cv2.circle(frame, (x, y), 50, (0, 255, 255), -1) \n",
    "\n",
    "    out.write(frame) \n",
    "\n",
    "# Release resources\n",
    "video.release()\n",
    "out.release()\n",
    "cv2.destroyAllWindows()"
   ]
  },
  {
   "cell_type": "code",
   "execution_count": null,
   "metadata": {},
   "outputs": [],
   "source": []
  },
  {
   "cell_type": "markdown",
   "metadata": {
    "vscode": {
     "languageId": "plaintext"
    }
   },
   "source": [
    "## Chop"
   ]
  },
  {
   "cell_type": "code",
   "execution_count": null,
   "metadata": {
    "vscode": {
     "languageId": "plaintext"
    }
   },
   "outputs": [],
   "source": []
  },
  {
   "cell_type": "code",
   "execution_count": null,
   "metadata": {
    "vscode": {
     "languageId": "plaintext"
    }
   },
   "outputs": [],
   "source": []
  },
  {
   "cell_type": "code",
   "execution_count": null,
   "metadata": {
    "vscode": {
     "languageId": "plaintext"
    }
   },
   "outputs": [],
   "source": []
  },
  {
   "cell_type": "code",
   "execution_count": null,
   "metadata": {
    "vscode": {
     "languageId": "plaintext"
    }
   },
   "outputs": [],
   "source": []
  }
 ],
 "metadata": {
  "language_info": {
   "name": "python"
  }
 },
 "nbformat": 4,
 "nbformat_minor": 2
}
