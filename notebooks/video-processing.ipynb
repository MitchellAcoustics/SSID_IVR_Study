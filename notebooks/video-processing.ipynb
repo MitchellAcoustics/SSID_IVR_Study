{
 "cells": [
  {
   "cell_type": "markdown",
   "metadata": {
    "vscode": {
     "languageId": "plaintext"
    }
   },
   "source": [
    "# Video Processing"
   ]
  },
  {
   "cell_type": "code",
   "execution_count": 2,
   "metadata": {},
   "outputs": [],
   "source": [
    "import pandas as pd\n",
    "import cv2"
   ]
  },
  {
   "cell_type": "markdown",
   "metadata": {},
   "source": [
    "import csv file"
   ]
  },
  {
   "cell_type": "code",
   "execution_count": null,
   "metadata": {},
   "outputs": [],
   "source": [
    "csv_file_path = \"/SSID_IVR_Study/data/gaze_videos/SSID AV1/001_P48.csv\"  \n",
    "Points = pd.read_csv(csv_file_path, skiprows=lambda x: x < 26)"
   ]
  },
  {
   "cell_type": "markdown",
   "metadata": {},
   "source": [
    "find the 'StartMedia' timestamp"
   ]
  },
  {
   "cell_type": "code",
   "execution_count": null,
   "metadata": {},
   "outputs": [],
   "source": [
    "row = Points[Points['SlideEvent'] == 'StartMedia'] \n",
    "timestamp_diff = row['Timestamp'].values[0] "
   ]
  },
  {
   "cell_type": "markdown",
   "metadata": {},
   "source": [
    "## Overlaying"
   ]
  },
  {
   "cell_type": "code",
   "execution_count": null,
   "metadata": {},
   "outputs": [],
   "source": [
    "# read the video\n",
    "input_video_path = \"input.mp4\"\n",
    "output_overlay_path = \"output_overlay.mp4\"\n",
    "\n",
    "video = cv2.VideoCapture(input_video_path)\n",
    "fps = video.get(cv2.CAP_PROP_FPS)\n",
    "total_frames = int(video.get(cv2.CAP_PROP_FRAME_COUNT))\n",
    "width = int(video.get(cv2.CAP_PROP_FRAME_WIDTH))\n",
    "height = int(video.get(cv2.CAP_PROP_FRAME_HEIGHT))\n",
    "\n",
    "# VideoWriter mp4-mp4v format\n",
    "fourcc = cv2.VideoWriter_fourcc(*'mp4v')\n",
    "out_overlay = cv2.VideoWriter(output_overlay_path, fourcc, fps, (width, height))\n",
    "\n",
    "# clean the NaN in columns\n",
    "Points = Points.dropna(subset=['Gaze X', 'Gaze Y'])\n",
    "\n",
    "# - timestamp_diff\n",
    "Points['Timestamp'] = Points['Timestamp'] - timestamp_diff\n",
    "\n",
    "# loop video frames\n",
    "current_point_index = 0\n",
    "for frame_index in range(total_frames):\n",
    "    ret, frame = video.read()\n",
    "    if not ret:\n",
    "        break\n",
    "    \n",
    "    # time of the frame in ms\n",
    "    current_time = frame_index / fps * 1000 \n",
    "    \n",
    "    # check if the time has reached the next timestamp\n",
    "    while (current_point_index < len(Points) - 1 and\n",
    "           Points['Timestamp'].iloc[current_point_index + 1] <= current_time):\n",
    "        current_point_index += 1 #index=index+1\n",
    "\n",
    "    # get the coordinates corresponding to the current timestamp\n",
    "    if current_point_index < len(Points):\n",
    "        row = Points.iloc[current_point_index]\n",
    "        x, y = int(row['Gaze X']), int(row['Gaze Y'])\n",
    "        # draw a yellow circle\n",
    "        cv2.circle(frame, (x, y), 50, (0, 250, 250), -1) \n",
    "\n",
    "    out_overlay.write(frame) \n",
    "\n",
    "video.release()\n",
    "out_overlay.release()\n",
    "cv2.destroyAllWindows()"
   ]
  },
  {
   "cell_type": "markdown",
   "metadata": {
    "vscode": {
     "languageId": "plaintext"
    }
   },
   "source": [
    "## Chopping"
   ]
  },
  {
   "cell_type": "code",
   "execution_count": null,
   "metadata": {},
   "outputs": [],
   "source": [
    "# read the video\n",
    "input_path = output_overlay_path\n",
    "output_video_path = \"output_chopped.mp4\"\n",
    "\n",
    "video = cv2.VideoCapture(input_path)\n",
    "fps = video.get(cv2.CAP_PROP_FPS)\n",
    "total_frames = int(video.get(cv2.CAP_PROP_FRAME_COUNT))\n",
    "width = int(video.get(cv2.CAP_PROP_FRAME_WIDTH))\n",
    "height = int(video.get(cv2.CAP_PROP_FRAME_HEIGHT))\n",
    "\n",
    "\n",
    "# VideoWriter\n",
    "fourcc = cv2.VideoWriter_fourcc(*'mp4v')\n",
    "out = cv2.VideoWriter(output_video_path, fourcc, fps, (width, height))\n",
    "\n",
    "# - timestamp difference \n",
    "Points['Timestamp'] = Points['Timestamp'] - timestamp_diff\n",
    "\n",
    "# process frames\n",
    "current_point_index = 0\n",
    "skip_frames = False\n",
    "\n",
    "for frame_index in range(total_frames):\n",
    "    ret, frame = video.read()\n",
    "    if not ret:\n",
    "        break\n",
    "    \n",
    "    current_time = frame_index / fps * 1000\n",
    "    \n",
    "    # update current_point_index based on time \n",
    "    while current_point_index < len(Points) - 1 and Points['Timestamp'].iloc[current_point_index + 1] <= current_time:\n",
    "        current_point_index += 1\n",
    "        \n",
    "        # skip frames\n",
    "        if pd.isna(Points['Respondent Annotations active'].iloc[current_point_index]) or Points['Respondent Annotations active'].iloc[current_point_index] == '':\n",
    "            skip_frames = True\n",
    "        else:\n",
    "            skip_frames = False\n",
    "\n",
    "    # write frame if not skipping\n",
    "    if not skip_frames:\n",
    "        out.write(frame)\n",
    "\n",
    "# release resources\n",
    "video.release()\n",
    "out.release()\n",
    "cv2.destroyAllWindows()"
   ]
  },
  {
   "cell_type": "code",
   "execution_count": null,
   "metadata": {},
   "outputs": [],
   "source": []
  },
  {
   "cell_type": "code",
   "execution_count": null,
   "metadata": {},
   "outputs": [],
   "source": []
  },
  {
   "cell_type": "code",
   "execution_count": null,
   "metadata": {},
   "outputs": [],
   "source": []
  }
 ],
 "metadata": {
  "kernelspec": {
   "display_name": ".venv",
   "language": "python",
   "name": "python3"
  },
  "language_info": {
   "codemirror_mode": {
    "name": "ipython",
    "version": 3
   },
   "file_extension": ".py",
   "mimetype": "text/x-python",
   "name": "python",
   "nbconvert_exporter": "python",
   "pygments_lexer": "ipython3",
   "version": "3.10.15"
  }
 },
 "nbformat": 4,
 "nbformat_minor": 2
}
