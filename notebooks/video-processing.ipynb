{
 "cells": [
  {
   "cell_type": "markdown",
   "metadata": {
    "vscode": {
     "languageId": "plaintext"
    }
   },
   "source": [
    "# Video Processing for Eye Tracking Analysis\n",
    "\n",
    "This notebook processes eye tracking data from a research study that combines video recordings with gaze tracking information. The main functions include:\n",
    "- Converting WMV video files to MP4 format\n",
    "- Processing eye tracking data from CSV files\n",
    "- Overlaying gaze positions on video recordings\n",
    "- Chopping videos based on annotation markers\n",
    "\n",
    "## Prerequisites\n",
    "\n",
    "- Required libraries: pandas, cv2 (OpenCV), numpy\n",
    "- Custom utilities from ivr_utils package\n",
    "- Access to the data directory containing participant recordings\n",
    "\n",
    "## Data Organization\n",
    "\n",
    "The code expects:\n",
    "\n",
    "- A server data directory containing:\n",
    "  - Eyetracking data in CSV format\n",
    "  - Video recordings in WMV format\n",
    "- CSV files contain columns:\n",
    "  - Timestamp: Time in milliseconds\n",
    "  - Gaze X/Y: Screen coordinates of gaze position\n",
    "  - SlideEvent: Events like \"StartMedia\"\n",
    "  - Respondent Annotations active: Used for video chopping\n",
    "\n",
    "## Potential Improvements\n",
    "Consider adding:\n",
    "- Error handling for missing or corrupted files\n",
    "- Progress indicators for long processing operations\n",
    "- Validation of input data format and content\n",
    "- Configuration options for visualization parameters\n",
    "- Memory optimization for large video files\n",
    "- Batch processing capabilities for multiple participants"
   ]
  },
  {
   "cell_type": "code",
   "execution_count": null,
   "metadata": {},
   "outputs": [
    {
     "ename": "ModuleNotFoundError",
     "evalue": "No module named 'av'",
     "output_type": "error",
     "traceback": [
      "\u001b[0;31m---------------------------------------------------------------------------\u001b[0m",
      "\u001b[0;31mModuleNotFoundError\u001b[0m                       Traceback (most recent call last)",
      "Cell \u001b[0;32mIn[3], line 5\u001b[0m\n\u001b[1;32m      3\u001b[0m \u001b[38;5;28;01mfrom\u001b[39;00m \u001b[38;5;21;01mpathlib\u001b[39;00m \u001b[38;5;28;01mimport\u001b[39;00m Path\n\u001b[1;32m      4\u001b[0m \u001b[38;5;28;01mfrom\u001b[39;00m \u001b[38;5;21;01mtyping\u001b[39;00m \u001b[38;5;28;01mimport\u001b[39;00m Tuple\n\u001b[0;32m----> 5\u001b[0m \u001b[38;5;28;01mfrom\u001b[39;00m \u001b[38;5;21;01mivr_utils\u001b[39;00m\u001b[38;5;21;01m.\u001b[39;00m\u001b[38;5;21;01mivr_utils\u001b[39;00m \u001b[38;5;28;01mimport\u001b[39;00m (\n\u001b[1;32m      6\u001b[0m     find_participant_files,\n\u001b[1;32m      7\u001b[0m     convert_wmv_to_mp4,\n\u001b[1;32m      8\u001b[0m     pyav_timestamps,\n\u001b[1;32m      9\u001b[0m     chopping_video,\n\u001b[1;32m     10\u001b[0m     overlaying_video\n\u001b[1;32m     11\u001b[0m )\n\u001b[1;32m     12\u001b[0m \u001b[38;5;28;01mimport\u001b[39;00m \u001b[38;5;21;01mnumpy\u001b[39;00m \u001b[38;5;28;01mas\u001b[39;00m \u001b[38;5;21;01mnp\u001b[39;00m\n\u001b[1;32m     14\u001b[0m \u001b[38;5;66;03m# Constants\u001b[39;00m\n",
      "File \u001b[0;32m~/Documents/Github/SSID_IVR_Study/notebooks/ivr_utils/ivr_utils.py:32\u001b[0m\n\u001b[1;32m     30\u001b[0m \u001b[38;5;28;01mimport\u001b[39;00m \u001b[38;5;21;01mlogging\u001b[39;00m  \u001b[38;5;66;03m# For operation logging\u001b[39;00m\n\u001b[1;32m     31\u001b[0m \u001b[38;5;28;01mfrom\u001b[39;00m \u001b[38;5;21;01mtyping\u001b[39;00m \u001b[38;5;28;01mimport\u001b[39;00m Union, Optional, Tuple, List\n\u001b[0;32m---> 32\u001b[0m \u001b[38;5;28;01mimport\u001b[39;00m \u001b[38;5;21;01mav\u001b[39;00m  \u001b[38;5;66;03m# For advanced video operations\u001b[39;00m\n\u001b[1;32m     35\u001b[0m \u001b[38;5;28;01mdef\u001b[39;00m \u001b[38;5;21mfind_participant_files\u001b[39m(\n\u001b[1;32m     36\u001b[0m     participant_id: \u001b[38;5;28mstr\u001b[39m, data_dir: Path \u001b[38;5;241m|\u001b[39m \u001b[38;5;28mstr\u001b[39m\n\u001b[1;32m     37\u001b[0m ) \u001b[38;5;241m-\u001b[39m\u001b[38;5;241m>\u001b[39m \u001b[38;5;28mtuple\u001b[39m[Path, Path]:\n\u001b[1;32m     38\u001b[0m \u001b[38;5;250m    \u001b[39m\u001b[38;5;124;03m\"\"\"\u001b[39;00m\n\u001b[1;32m     39\u001b[0m \u001b[38;5;124;03m    Find the participant files for the given participant ID in the given data directory.\u001b[39;00m\n\u001b[1;32m     40\u001b[0m \n\u001b[0;32m   (...)\u001b[0m\n\u001b[1;32m     56\u001b[0m \u001b[38;5;124;03m    - AssertionError: If the CSV file or the WMV video file is not found or if multiple files are found.\u001b[39;00m\n\u001b[1;32m     57\u001b[0m \u001b[38;5;124;03m    \"\"\"\u001b[39;00m\n",
      "\u001b[0;31mModuleNotFoundError\u001b[0m: No module named 'av'"
     ]
    }
   ],
   "source": [
    "import pandas as pd\n",
    "import cv2\n",
    "from pathlib import Path\n",
    "from typing import Tuple\n",
    "from ivr_utils.ivr_utils import (\n",
    "    find_participant_files,\n",
    "    convert_wmv_to_mp4,\n",
    "    pyav_timestamps,\n",
    "    chopping_video,\n",
    "    overlaying_video\n",
    ")\n",
    "import numpy as np\n",
    "\n",
    "# Constants\n",
    "PARTICIPANT_ID = \"P48\"\n",
    "\n",
    "local_data_dir = Path.cwd().parent / \"data\"\n",
    "server_data_dir = Path(\n",
    "    \"/Volumes/ritd-ag-project-rd00pj-jkang71/UCL_SSID/SSID IVR Study 1\"\n",
    ")\n",
    "output_dir = server_data_dir / \"output\"\n",
    "\n",
    "assert server_data_dir.is_dir(), \"Server data directory not found\""
   ]
  },
  {
   "cell_type": "markdown",
   "metadata": {},
   "source": [
    "## Find Files for participant"
   ]
  },
  {
   "cell_type": "code",
   "execution_count": 2,
   "metadata": {},
   "outputs": [
    {
     "name": "stdout",
     "output_type": "stream",
     "text": [
      "Participant CSV: /Volumes/ritd-ag-project-rd00pj-jkang71/UCL_SSID/SSID IVR Study 1/Eyetracking/SSID AV1/001_P48.csv\n",
      "Participant WMV: /Volumes/ritd-ag-project-rd00pj-jkang71/UCL_SSID/SSID IVR Study 1/Eyetracking/SSID AV1/Gaze Replays/Scene_P48_ScreenRecording-1_(0,OTHER,1005).wmv\n"
     ]
    }
   ],
   "source": [
    "eyetracking_dir = server_data_dir / \"Eyetracking\"\n",
    "\n",
    "part_csv_path, part_wmv_path = find_participant_files(PARTICIPANT_ID, eyetracking_dir)\n",
    "print(f\"Participant CSV: {part_csv_path}\")\n",
    "print(f\"Participant WMV: {part_wmv_path}\")"
   ]
  },
  {
   "cell_type": "markdown",
   "metadata": {},
   "source": [
    "# Import csv file for participant"
   ]
  },
  {
   "cell_type": "code",
   "execution_count": 3,
   "metadata": {},
   "outputs": [
    {
     "name": "stderr",
     "output_type": "stream",
     "text": [
      "/var/folders/6t/7h8wn9n92w5f24ml_bkwck9m0000gn/T/ipykernel_13867/1569397620.py:1: DtypeWarning: Columns (3,4,6) have mixed types. Specify dtype option on import or set low_memory=False.\n",
      "  points = pd.read_csv(part_csv_path, skiprows=lambda x: x < 26)\n"
     ]
    }
   ],
   "source": [
    "points = pd.read_csv(part_csv_path, skiprows=lambda x: x < 26)\n",
    "\n",
    "# find the \"StartMedia\" timestamp\n",
    "row = points[points[\"SlideEvent\"] == \"StartMedia\"]\n",
    "timestamp_diff = row[\"Timestamp\"].values[0]\n",
    "\n",
    "# clean the NaN in columns\n",
    "points = points.dropna(subset=[\"Gaze X\", \"Gaze Y\"])\n",
    "\n",
    "# - timestamp_diff to make the timestamp start from 0\n",
    "points[\"Timestamp\"] = points[\"Timestamp\"] - timestamp_diff"
   ]
  },
  {
   "cell_type": "markdown",
   "metadata": {},
   "source": [
    "## Convert to MP4 if not already found\n",
    "\n",
    "### Dealing with the fps issues\n",
    "\n",
    "The notebook includes analysis of frame rates across different participants:\n",
    "\n",
    "- Timestamps are extracted from video files\n",
    "- Average time differences between frames are calculated\n",
    "- Equivalent FPS is computed\n",
    "- Multiple participant examples (P42, P48, P6) show variation in frame rates\n",
    "\n",
    "**P42**:\n",
    "\n",
    "```text\n",
    "Number of timestamps from AV (i.e. n frames): 24007\n",
    "[0, 170, 496, 707, 807, 908, 1012, 1118, 1225, 1318]\n",
    "[170 326 211 100 101 104 106 107  93 106]\n",
    "Average time difference: 107.01857868866117\n",
    "Standard deviation of time difference: 37.66216773314807\n",
    "Equivalent FPS 9.34417193961437\n",
    "```\n",
    "\n",
    "**P48**:\n",
    "\n",
    "```text\n",
    "Number of timestamps from AV (i.e. n frames): 19417\n",
    "[0, 178, 482, 583, 677, 763, 848, 937, 1022, 1116]\n",
    "[178 304 101  94  86  85  89  85  94  75]\n",
    "Average time difference: 114.73217964565308\n",
    "Standard deviation of time difference: 45.292123590311085\n",
    "Equivalent FPS 8.715950512650158\n",
    "```\n",
    "\n",
    "**p6**\n",
    "\n",
    "```text\n",
    "Number of timestamps from AV (i.e. n frames): 7497\n",
    "[0, 185, 496, 590, 692, 802, 882, 977, 1071, 1168]\n",
    "[185 311  94 102 110  80  95  94  97  84]\n",
    "Average time difference: 122.87433297758805\n",
    "Standard deviation of time difference: 46.83135463165881\n",
    "Equivalent FPS 8.138396162707124\n",
    "```"
   ]
  },
  {
   "cell_type": "code",
   "execution_count": 6,
   "metadata": {},
   "outputs": [
    {
     "name": "stdout",
     "output_type": "stream",
     "text": [
      "Number of timestamps from AV (i.e. n frames): 19417\n",
      "[0, 178, 482, 583, 677, 763, 848, 937, 1022, 1116]\n",
      "[178 304 101  94  86  85  89  85  94  75]\n",
      "Average time difference: 114.73217964565308\n",
      "Standard deviation of time difference: 45.292123590311085\n",
      "Equivalent FPS 8.715950512650158\n"
     ]
    }
   ],
   "source": [
    "av_timestamps = pyav_timestamps(part_wmv_path)\n",
    "\n",
    "print(f\"Number of timestamps from AV (i.e. n frames): {len(av_timestamps)}\")\n",
    "print(av_timestamps[:10])\n",
    "\n",
    "tdiff = np.diff(av_timestamps)\n",
    "print(tdiff[:10])\n",
    "print(f\"Average time difference: {np.mean(tdiff)}\")\n",
    "print(f\"Standard deviation of time difference: {np.std(tdiff)}\")\n",
    "print(f\"Equivalent FPS {1 / (np.mean(tdiff) / 1000)}\")"
   ]
  },
  {
   "cell_type": "markdown",
   "metadata": {},
   "source": [
    "## Convert WMV to MP4"
   ]
  },
  {
   "cell_type": "code",
   "execution_count": 12,
   "metadata": {},
   "outputs": [
    {
     "name": "stderr",
     "output_type": "stream",
     "text": [
      "2024-12-19 01:51:37 - INFO - Checking existing MP4 file\n"
     ]
    },
    {
     "name": "stdout",
     "output_type": "stream",
     "text": [
      "MP4 file already exists and is valid\n"
     ]
    }
   ],
   "source": [
    "import logging\n",
    "\n",
    "# Configure logging with timestamp, level and message\n",
    "logging.basicConfig(\n",
    "    level=logging.INFO,\n",
    "    format=\"%(asctime)s - %(levelname)s - %(message)s\",\n",
    "    datefmt=\"%Y-%m-%d %H:%M:%S\",\n",
    ")\n",
    "\n",
    "result = convert_wmv_to_mp4(part_wmv_path, \"output_test3.mp4\")\n",
    "result.print_status()"
   ]
  },
  {
   "cell_type": "markdown",
   "metadata": {},
   "source": [
    "## Chopping"
   ]
  },
  {
   "cell_type": "code",
   "execution_count": 1,
   "metadata": {},
   "outputs": [
    {
     "ename": "NameError",
     "evalue": "name 'result' is not defined",
     "output_type": "error",
     "traceback": [
      "\u001b[0;31m---------------------------------------------------------------------------\u001b[0m",
      "\u001b[0;31mNameError\u001b[0m                                 Traceback (most recent call last)",
      "Cell \u001b[0;32mIn[1], line 3\u001b[0m\n\u001b[1;32m      1\u001b[0m N_FRAMES_PROC \u001b[38;5;241m=\u001b[39m \u001b[38;5;241m30\u001b[39m \u001b[38;5;241m*\u001b[39m \u001b[38;5;241m60\u001b[39m  \u001b[38;5;66;03m# 30 fps * 60 seconds\u001b[39;00m\n\u001b[0;32m----> 3\u001b[0m input_video_path \u001b[38;5;241m=\u001b[39m \u001b[43mresult\u001b[49m\u001b[38;5;241m.\u001b[39moutput_path\n\u001b[1;32m      4\u001b[0m output_chopping_path \u001b[38;5;241m=\u001b[39m local_data_dir \u001b[38;5;241m/\u001b[39m \u001b[38;5;124mf\u001b[39m\u001b[38;5;124m\"\u001b[39m\u001b[38;5;132;01m{\u001b[39;00mPARTICIPANT_ID\u001b[38;5;132;01m}\u001b[39;00m\u001b[38;5;124m_output_chopped_test.mp4\u001b[39m\u001b[38;5;124m\"\u001b[39m\n\u001b[1;32m      6\u001b[0m chopping_video(input_video_path, output_chopping_path, N_FRAMES_PROC, points)\n",
      "\u001b[0;31mNameError\u001b[0m: name 'result' is not defined"
     ]
    }
   ],
   "source": [
    "N_FRAMES_PROC = 30 * 60  # 30 fps * 60 seconds\n",
    "\n",
    "input_video_path = result.output_path\n",
    "output_chopping_path = local_data_dir / f\"{PARTICIPANT_ID}_output_chopped_test.mp4\"\n",
    "\n",
    "chopping_video(input_video_path, output_chopping_path, N_FRAMES_PROC, points)\n",
    "\n",
    "# release resources\n",
    "video.release()\n",
    "out.release()\n",
    "cv2.destroyAllWindows()"
   ]
  },
  {
   "cell_type": "markdown",
   "metadata": {},
   "source": [
    "## Overlaying"
   ]
  },
  {
   "cell_type": "code",
   "execution_count": null,
   "metadata": {},
   "outputs": [],
   "source": [
    "# TODO: Extract into utils function\n",
    "\n",
    "N_FRAMES_PROC = 30 * 60  # 30 fps * 60 seconds\n",
    "input_overlay_path = output_chopping_path\n",
    "output_overlay_path = local_data_dir / f\"{PARTICIPANT_ID}_output_overlay_test.mp4\"\n",
    "\n",
    "overlaying_video(input_overlay_path, output_overlay_path, N_FRAMES_PROC, points)\n",
    "\n",
    "# release resources\n",
    "video.release()\n",
    "out_overlay.release()\n",
    "cv2.destroyAllWindows()\n"
   ]
  }
 ],
 "metadata": {
  "kernelspec": {
   "display_name": ".venv",
   "language": "python",
   "name": "python3"
  },
  "language_info": {
   "codemirror_mode": {
    "name": "ipython",
    "version": 3
   },
   "file_extension": ".py",
   "mimetype": "text/x-python",
   "name": "python",
   "nbconvert_exporter": "python",
   "pygments_lexer": "ipython3",
   "version": "3.10.15"
  }
 },
 "nbformat": 4,
 "nbformat_minor": 2
}
