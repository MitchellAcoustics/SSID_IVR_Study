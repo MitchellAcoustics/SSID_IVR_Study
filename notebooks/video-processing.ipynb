{
    "cells": [
        {
            "cell_type": "markdown",
            "metadata": {
                "vscode": {
                    "languageId": "plaintext"
                }
            },
            "source": [
                "# Video Processing for Eye Tracking Analysis\n",
                "\n",
                "This notebook processes eye tracking data from a research study that combines video recordings with gaze tracking information. The main functions include:\n",
                "- Converting WMV video files to MP4 format\n",
                "- Processing eye tracking data from CSV files\n",
                "- Overlaying gaze positions on video recordings\n",
                "- Chopping videos based on annotation markers\n",
                "\n",
                "## Prerequisites\n",
                "\n",
                "- Required libraries: pandas, cv2 (OpenCV), numpy\n",
                "- Custom utilities from ivr_utils package\n",
                "- Access to the data directory containing participant recordings\n",
                "\n",
                "## Data Organization\n",
                "\n",
                "The code expects:\n",
                "\n",
                "- A server data directory containing:\n",
                "  - Eyetracking data in CSV format\n",
                "  - Video recordings in WMV format\n",
                "- CSV files contain columns:\n",
                "  - Timestamp: Time in milliseconds\n",
                "  - Gaze X/Y: Screen coordinates of gaze position\n",
                "  - SlideEvent: Events like \"StartMedia\"\n",
                "  - Respondent Annotations active: Used for video chopping\n",
                "\n",
                "## Potential Improvements\n",
                "Consider adding:\n",
                "- Error handling for missing or corrupted files\n",
                "- Progress indicators for long processing operations\n",
                "- Validation of input data format and content\n",
                "- Configuration options for visualization parameters\n",
                "- Memory optimization for large video files\n",
                "- Batch processing capabilities for multiple participants"
            ]
        },
        {
            "cell_type": "code",
            "execution_count": 1,
            "metadata": {},
            "outputs": [],
            "source": [
                "import pandas as pd\n",
                "import cv2\n",
                "from pathlib import Path\n",
                "from typing import Tuple\n",
                "from ivr_utils.ivr_utils import (\n",
                "    find_participant_files,\n",
                "    convert_wmv_to_mp4,\n",
                "    pyav_timestamps,\n",
                ")\n",
                "import numpy as np\n",
                "\n",
                "# Constants\n",
                "PARTICIPANT_ID = \"P48\"\n",
                "\n",
                "local_data_dir = Path.cwd().parent / \"data\"\n",
                "server_data_dir = Path(\n",
                "    \"/Volumes/ritd-ag-project-rd00pj-jkang71/UCL_SSID/SSID IVR Study 1\"\n",
                ")\n",
                "output_dir = server_data_dir / \"output\"\n",
                "\n",
                "assert server_data_dir.is_dir(), \"Server data directory not found\""
            ]
        },
        {
            "cell_type": "markdown",
            "metadata": {},
            "source": [
                "## Find Files for participant"
            ]
        },
        {
            "cell_type": "code",
            "execution_count": 2,
            "metadata": {},
            "outputs": [
                {
                    "name": "stdout",
                    "output_type": "stream",
                    "text": [
                        "Participant CSV: /Volumes/ritd-ag-project-rd00pj-jkang71/UCL_SSID/SSID IVR Study 1/Eyetracking/SSID AV1/001_P48.csv\n",
                        "Participant WMV: /Volumes/ritd-ag-project-rd00pj-jkang71/UCL_SSID/SSID IVR Study 1/Eyetracking/SSID AV1/Gaze Replays/Scene_P48_ScreenRecording-1_(0,OTHER,1005).wmv\n"
                    ]
                }
            ],
            "source": [
                "eyetracking_dir = server_data_dir / \"Eyetracking\"\n",
                "\n",
                "part_csv_path, part_wmv_path = find_participant_files(PARTICIPANT_ID, eyetracking_dir)\n",
                "print(f\"Participant CSV: {part_csv_path}\")\n",
                "print(f\"Participant WMV: {part_wmv_path}\")"
            ]
        },
        {
            "cell_type": "markdown",
            "metadata": {},
            "source": [
                "# Import csv file for participant"
            ]
        },
        {
            "cell_type": "code",
            "execution_count": 3,
            "metadata": {},
            "outputs": [
                {
                    "name": "stderr",
                    "output_type": "stream",
                    "text": [
                        "/var/folders/6t/7h8wn9n92w5f24ml_bkwck9m0000gn/T/ipykernel_13867/1569397620.py:1: DtypeWarning: Columns (3,4,6) have mixed types. Specify dtype option on import or set low_memory=False.\n",
                        "  points = pd.read_csv(part_csv_path, skiprows=lambda x: x < 26)\n"
                    ]
                }
            ],
            "source": [
                "points = pd.read_csv(part_csv_path, skiprows=lambda x: x < 26)\n",
                "\n",
                "# find the \"StartMedia\" timestamp\n",
                "row = points[points[\"SlideEvent\"] == \"StartMedia\"]\n",
                "timestamp_diff = row[\"Timestamp\"].values[0]\n",
                "\n",
                "# clean the NaN in columns\n",
                "points = points.dropna(subset=[\"Gaze X\", \"Gaze Y\"])\n",
                "\n",
                "# - timestamp_diff to make the timestamp start from 0\n",
                "points[\"Timestamp\"] = points[\"Timestamp\"] - timestamp_diff"
            ]
        },
        {
            "cell_type": "markdown",
            "metadata": {},
            "source": [
                "## Convert to MP4 if not already found\n",
                "\n",
                "### Dealing with the fps issues\n",
                "\n",
                "The notebook includes analysis of frame rates across different participants:\n",
                "\n",
                "- Timestamps are extracted from video files\n",
                "- Average time differences between frames are calculated\n",
                "- Equivalent FPS is computed\n",
                "- Multiple participant examples (P42, P48, P6) show variation in frame rates\n",
                "\n",
                "**P42**:\n",
                "\n",
                "```text\n",
                "Number of timestamps from AV (i.e. n frames): 24007\n",
                "[0, 170, 496, 707, 807, 908, 1012, 1118, 1225, 1318]\n",
                "[170 326 211 100 101 104 106 107  93 106]\n",
                "Average time difference: 107.01857868866117\n",
                "Standard deviation of time difference: 37.66216773314807\n",
                "Equivalent FPS 9.34417193961437\n",
                "```\n",
                "\n",
                "**P48**:\n",
                "\n",
                "```text\n",
                "Number of timestamps from AV (i.e. n frames): 19417\n",
                "[0, 178, 482, 583, 677, 763, 848, 937, 1022, 1116]\n",
                "[178 304 101  94  86  85  89  85  94  75]\n",
                "Average time difference: 114.73217964565308\n",
                "Standard deviation of time difference: 45.292123590311085\n",
                "Equivalent FPS 8.715950512650158\n",
                "```\n",
                "\n",
                "**p6**\n",
                "\n",
                "```text\n",
                "Number of timestamps from AV (i.e. n frames): 7497\n",
                "[0, 185, 496, 590, 692, 802, 882, 977, 1071, 1168]\n",
                "[185 311  94 102 110  80  95  94  97  84]\n",
                "Average time difference: 122.87433297758805\n",
                "Standard deviation of time difference: 46.83135463165881\n",
                "Equivalent FPS 8.138396162707124\n",
                "```"
            ]
        },
        {
            "cell_type": "code",
            "execution_count": 6,
            "metadata": {},
            "outputs": [
                {
                    "name": "stdout",
                    "output_type": "stream",
                    "text": [
                        "Number of timestamps from AV (i.e. n frames): 19417\n",
                        "[0, 178, 482, 583, 677, 763, 848, 937, 1022, 1116]\n",
                        "[178 304 101  94  86  85  89  85  94  75]\n",
                        "Average time difference: 114.73217964565308\n",
                        "Standard deviation of time difference: 45.292123590311085\n",
                        "Equivalent FPS 8.715950512650158\n"
                    ]
                }
            ],
            "source": [
                "av_timestamps = pyav_timestamps(part_wmv_path)\n",
                "\n",
                "print(f\"Number of timestamps from AV (i.e. n frames): {len(av_timestamps)}\")\n",
                "print(av_timestamps[:10])\n",
                "\n",
                "tdiff = np.diff(av_timestamps)\n",
                "print(tdiff[:10])\n",
                "print(f\"Average time difference: {np.mean(tdiff)}\")\n",
                "print(f\"Standard deviation of time difference: {np.std(tdiff)}\")\n",
                "print(f\"Equivalent FPS {1 / (np.mean(tdiff) / 1000)}\")"
            ]
        },
        {
            "cell_type": "markdown",
            "metadata": {},
            "source": [
                "## Convert WMV to MP4"
            ]
        },
        {
            "cell_type": "code",
            "execution_count": 12,
            "metadata": {},
            "outputs": [
                {
                    "name": "stderr",
                    "output_type": "stream",
                    "text": [
                        "2024-12-19 01:51:37 - INFO - Checking existing MP4 file\n"
                    ]
                },
                {
                    "name": "stdout",
                    "output_type": "stream",
                    "text": [
                        "MP4 file already exists and is valid\n"
                    ]
                }
            ],
            "source": [
                "import logging\n",
                "\n",
                "# Configure logging with timestamp, level and message\n",
                "logging.basicConfig(\n",
                "    level=logging.INFO,\n",
                "    format=\"%(asctime)s - %(levelname)s - %(message)s\",\n",
                "    datefmt=\"%Y-%m-%d %H:%M:%S\",\n",
                ")\n",
                "\n",
                "result = convert_wmv_to_mp4(part_wmv_path, \"output_test3.mp4\")\n",
                "result.print_status()"
            ]
        },
        {
            "cell_type": "markdown",
            "metadata": {},
            "source": [
                "## Overlaying"
            ]
        },
        {
            "cell_type": "code",
            "execution_count": 74,
            "metadata": {},
            "outputs": [],
            "source": [
                "# TODO: Extract into utils function\n",
                "\n",
                "N_FRAMES_PROC = 30 * 60  # 30 fps * 60 seconds\n",
                "part_mp4_path = result.output_path\n",
                "\n",
                "# read the video\n",
                "# input_video_path = \"input.mp4\"\n",
                "output_overlay_path = local_data_dir / f\"{PARTICIPANT_ID}_output_overlay_test.mp4\"\n",
                "\n",
                "video = cv2.VideoCapture(part_mp4_path.as_posix())\n",
                "fps = video.get(cv2.CAP_PROP_FPS)\n",
                "total_frames = int(video.get(cv2.CAP_PROP_FRAME_COUNT))\n",
                "width = int(video.get(cv2.CAP_PROP_FRAME_WIDTH))\n",
                "height = int(video.get(cv2.CAP_PROP_FRAME_HEIGHT))\n",
                "\n",
                "# VideoWriter mp4-mp4v format\n",
                "fourcc = cv2.VideoWriter_fourcc(*\"mp4v\")\n",
                "out_overlay = cv2.VideoWriter(output_overlay_path, fourcc, fps, (width, height))\n",
                "\n",
                "# # clean the NaN in columns\n",
                "# points = points.dropna(subset=[\"Gaze X\", \"Gaze Y\"])\n",
                "\n",
                "# # - timestamp_diff to make the timestamp start from 0\n",
                "# points[\"Timestamp\"] = points[\"Timestamp\"] - timestamp_diff\n",
                "\n",
                "# loop video frames\n",
                "current_point_index = 0\n",
                "for frame_index in range(total_frames):\n",
                "    if frame_index > N_FRAMES_PROC:\n",
                "        break\n",
                "\n",
                "    ret, frame = video.read()\n",
                "    if not ret:\n",
                "        break\n",
                "\n",
                "    # time of the frame in ms\n",
                "    current_time = frame_index / fps * 1000\n",
                "\n",
                "    # check if the time has reached the next timestamp in the eyetracking csv\n",
                "    while (\n",
                "        current_point_index < len(points) - 1\n",
                "        and points[\"Timestamp\"].iloc[current_point_index + 1] <= current_time\n",
                "    ):\n",
                "        current_point_index += 1  # index=index+1\n",
                "\n",
                "    # get the coordinates corresponding to the current timestamp\n",
                "    if current_point_index < len(points):\n",
                "        row = points.iloc[current_point_index]\n",
                "        x, y = int(row[\"Gaze X\"]), int(row[\"Gaze Y\"])\n",
                "        # draw a yellow circle\n",
                "        cv2.circle(frame, (x, y), 50, (0, 250, 250), -1)\n",
                "\n",
                "    out_overlay.write(frame)\n",
                "\n",
                "video.release()\n",
                "out_overlay.release()\n",
                "cv2.destroyAllWindows()"
            ]
        },
        {
            "cell_type": "markdown",
            "metadata": {
                "vscode": {
                    "languageId": "plaintext"
                }
            },
            "source": [
                "## Chopping"
            ]
        },
        {
            "cell_type": "code",
            "execution_count": 78,
            "metadata": {},
            "outputs": [],
            "source": [
                "N_FRAMES_PROC = 30 * 240  # 30 fps * 240 seconds\n",
                "\n",
                "# read the video\n",
                "input_path = part_mp4_path\n",
                "output_video_path = local_data_dir / f\"{PARTICIPANT_ID}_output_chopped_test.mp4\"\n",
                "\n",
                "video = cv2.VideoCapture(input_path)\n",
                "fps = video.get(cv2.CAP_PROP_FPS)\n",
                "total_frames = int(video.get(cv2.CAP_PROP_FRAME_COUNT))\n",
                "width = int(video.get(cv2.CAP_PROP_FRAME_WIDTH))\n",
                "height = int(video.get(cv2.CAP_PROP_FRAME_HEIGHT))\n",
                "\n",
                "# VideoWriter\n",
                "fourcc = cv2.VideoWriter_fourcc(*\"mp4v\")\n",
                "out = cv2.VideoWriter(output_video_path, fourcc, fps, (width, height))\n",
                "\n",
                "# # - timestamp difference\n",
                "# points[\"Timestamp\"] = points[\"Timestamp\"] - timestamp_diff\n",
                "\n",
                "# process frames\n",
                "current_point_index = 0\n",
                "skip_frames = False\n",
                "\n",
                "for frame_index in range(total_frames):\n",
                "    if frame_index > N_FRAMES_PROC:\n",
                "        break\n",
                "\n",
                "    ret, frame = video.read()\n",
                "    if not ret:\n",
                "        break\n",
                "\n",
                "    current_time = frame_index / fps * 1000\n",
                "\n",
                "    # update current_point_index based on time\n",
                "    while (\n",
                "        current_point_index < len(points) - 1\n",
                "        and points[\"Timestamp\"].iloc[current_point_index + 1] <= current_time\n",
                "    ):\n",
                "        current_point_index += 1\n",
                "\n",
                "        # skip frames\n",
                "        if (\n",
                "            pd.isna(points[\"Respondent Annotations active\"].iloc[current_point_index])\n",
                "            or points[\"Respondent Annotations active\"].iloc[current_point_index] == \"\"\n",
                "        ):\n",
                "            skip_frames = True\n",
                "        else:\n",
                "            skip_frames = False\n",
                "\n",
                "    # write frame if not skipping\n",
                "    if not skip_frames:\n",
                "        out.write(frame)\n",
                "\n",
                "# release resources\n",
                "video.release()\n",
                "out.release()\n",
                "cv2.destroyAllWindows()"
            ]
        },
        {
            "cell_type": "code",
            "execution_count": null,
            "metadata": {},
            "outputs": [],
            "source": []
        }
    ],
    "metadata": {
        "kernelspec": {
            "display_name": ".venv",
            "language": "python",
            "name": "python3"
        },
        "language_info": {
            "codemirror_mode": {
                "name": "ipython",
                "version": 3
            },
            "file_extension": ".py",
            "mimetype": "text/x-python",
            "name": "python",
            "nbconvert_exporter": "python",
            "pygments_lexer": "ipython3",
            "version": "3.10.15"
        }
    },
    "nbformat": 4,
    "nbformat_minor": 2
}